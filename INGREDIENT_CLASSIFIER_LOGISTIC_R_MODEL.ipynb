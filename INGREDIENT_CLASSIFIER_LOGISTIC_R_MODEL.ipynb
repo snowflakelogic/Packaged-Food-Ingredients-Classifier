{
  "nbformat": 4,
  "nbformat_minor": 0,
  "metadata": {
    "colab": {
      "private_outputs": true,
      "provenance": []
    },
    "kernelspec": {
      "name": "python3",
      "display_name": "Python 3"
    },
    "language_info": {
      "name": "python"
    }
  },
  "cells": [
    {
      "cell_type": "code",
      "execution_count": null,
      "metadata": {
        "id": "n2d2U1vO_87X"
      },
      "outputs": [],
      "source": [
        "# Import libraries\n",
        "import pandas as pd\n",
        "from sklearn.model_selection import train_test_split\n",
        "from sklearn.feature_extraction.text import TfidfVectorizer\n",
        "from sklearn.linear_model import LogisticRegression\n",
        "from sklearn.metrics import classification_report, accuracy_score\n",
        "from google.colab import files\n",
        "import joblib"
      ]
    },
    {
      "cell_type": "code",
      "source": [
        "# Load the Dataset\n",
        "uploaded = files.upload()\n",
        "data = pd.read_csv(list(uploaded.keys())[0])"
      ],
      "metadata": {
        "id": "Dpe-KPc6AG87"
      },
      "execution_count": null,
      "outputs": []
    },
    {
      "cell_type": "code",
      "source": [
        "# Data Preprocessing\n",
        "X = data['Ingredients']\n",
        "y = data['Healthy status']"
      ],
      "metadata": {
        "id": "GO6gWtPdATVO"
      },
      "execution_count": null,
      "outputs": []
    },
    {
      "cell_type": "code",
      "source": [
        "# TF-IDF Vectorizer with N-grams\n",
        "vectorizer = TfidfVectorizer(ngram_range=(1, 2))\n",
        "X_tfidf = vectorizer.fit_transform(X)"
      ],
      "metadata": {
        "id": "Tgi9syipATXJ"
      },
      "execution_count": null,
      "outputs": []
    },
    {
      "cell_type": "code",
      "source": [
        "# Split data into training and testing sets\n",
        "X_train, X_test, y_train, y_test = train_test_split(X_tfidf, y, test_size=0.2, random_state=42)"
      ],
      "metadata": {
        "id": "gN4dPRFLATas"
      },
      "execution_count": null,
      "outputs": []
    },
    {
      "cell_type": "code",
      "source": [
        "# Train Logistic Regression Model\n",
        "model = LogisticRegression(max_iter=1000, random_state=42, class_weight='balanced')\n",
        "model.fit(X_train, y_train)"
      ],
      "metadata": {
        "id": "WXw7cIXSAmOa"
      },
      "execution_count": null,
      "outputs": []
    },
    {
      "cell_type": "code",
      "source": [
        "# Test the Model\n",
        "y_pred = model.predict(X_test)\n",
        "print(\"Classification Report:\\n\", classification_report(y_test, y_pred))\n",
        "print(\"Accuracy Score:\", accuracy_score(y_test, y_pred))"
      ],
      "metadata": {
        "id": "2HS5nspxAqir"
      },
      "execution_count": null,
      "outputs": []
    },
    {
      "cell_type": "code",
      "source": [
        "# Save the Model and Vectorizer\n",
        "joblib.dump(model, 'ingredient_classifier_model.pkl')\n",
        "joblib.dump(vectorizer, 'vectorizer.pkl')"
      ],
      "metadata": {
        "id": "QxX7kOaUAuH9"
      },
      "execution_count": null,
      "outputs": []
    },
    {
      "cell_type": "code",
      "source": [
        "# Function to classify each ingredient individually\n",
        "def classify_individual_ingredients(ingredient_list):\n",
        "    results = {}\n",
        "    for ingredient in ingredient_list:\n",
        "        # Transform the ingredient text to TF-IDF features\n",
        "        input_tfidf = vectorizer.transform([ingredient])\n",
        "        # Predict the health status of the ingredient\n",
        "        prediction = model.predict(input_tfidf)[0]\n",
        "        # Store the result\n",
        "        results[ingredient] = prediction\n",
        "    return results"
      ],
      "metadata": {
        "id": "I3JXiqQrAxPQ"
      },
      "execution_count": null,
      "outputs": []
    },
    {
      "cell_type": "code",
      "source": [
        "# Example Usage: Classify individual ingredients provided by the user\n",
        "ingredients = [\"Refined Palmolein Oil\", \"Banana\", \"Corn\", \"Food Acids (INS 330, INS 296)\"]\n",
        "results = classify_individual_ingredients(ingredients)\n",
        "\n",
        "# Display the results\n",
        "for ingredient, status in results.items():\n",
        "    print(f\"{ingredient} - {status}\")"
      ],
      "metadata": {
        "id": "zAgyR2OGAy_s"
      },
      "execution_count": null,
      "outputs": []
    },
    {
      "cell_type": "code",
      "source": [
        "# Example Usage: Classify individual ingredients provided by the user\n",
        "ingredients = [\"Refined Palmolein Oil\", \"Spices\", \"Acidity Regulator (INS 330)\", \"Food Acids (INS 330, INS 296)\"]\n",
        "results = classify_individual_ingredients(ingredients)\n",
        "\n",
        "# Display the results\n",
        "for ingredient, status in results.items():\n",
        "    print(f\"{ingredient} - {status}\")"
      ],
      "metadata": {
        "id": "RIXvqQ08A0MR"
      },
      "execution_count": null,
      "outputs": []
    },
    {
      "cell_type": "code",
      "source": [
        "# Example Usage: Classify individual ingredients provided by the user\n",
        "ingredients = [\"Refined Palmolein Oil\", \"Maltodextrin)\", \"Acidity Regulator (INS 330)\", \"Food Acids (INS 330, INS 296)\"]\n",
        "results = classify_individual_ingredients(ingredients)\n",
        "\n",
        "# Display the results\n",
        "for ingredient, status in results.items():\n",
        "    print(f\"{ingredient} - {status}\")"
      ],
      "metadata": {
        "id": "AG4szyADBDbj"
      },
      "execution_count": null,
      "outputs": []
    },
    {
      "cell_type": "code",
      "source": [],
      "metadata": {
        "id": "DBLjTZ-xBNpm"
      },
      "execution_count": null,
      "outputs": []
    }
  ]
}